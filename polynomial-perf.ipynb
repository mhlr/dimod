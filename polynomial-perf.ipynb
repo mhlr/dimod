{
 "cells": [
  {
   "cell_type": "markdown",
   "id": "182a16c4-4777-4ec3-99b1-476914c2ec1b",
   "metadata": {},
   "source": [
    "# Current"
   ]
  },
  {
   "cell_type": "markdown",
   "id": "11b1cb71-4f1b-441f-a6bf-93d430ac5356",
   "metadata": {
    "tags": []
   },
   "source": [
    "## Create test example"
   ]
  },
  {
   "cell_type": "code",
   "execution_count": 5,
   "id": "61901771-5a93-4cc9-a180-0cc2cc580a53",
   "metadata": {},
   "outputs": [],
   "source": [
    "%load_ext autoreload\n",
    "%autoreload 2"
   ]
  },
  {
   "cell_type": "code",
   "execution_count": 6,
   "id": "b0d92f0d-3549-4619-a272-a324ef475104",
   "metadata": {},
   "outputs": [],
   "source": [
    "import string, random, toolz, pandas, importlib, sys, os"
   ]
  },
  {
   "cell_type": "code",
   "execution_count": 7,
   "id": "d2c51a56-7617-427e-8ec5-12e4a0fc0a08",
   "metadata": {},
   "outputs": [],
   "source": [
    "terms = [(term, 1) for term in str(random.choices(string.ascii_letters, k=10**7)).split('Z')]"
   ]
  },
  {
   "cell_type": "code",
   "execution_count": 8,
   "id": "1f8a40cc-df42-4f45-9220-afd1f212239f",
   "metadata": {},
   "outputs": [
    {
     "data": {
      "text/plain": [
       "count    193097.000000\n",
       "mean        257.937223\n",
       "std         255.981964\n",
       "min           4.000000\n",
       "25%          74.000000\n",
       "50%         179.000000\n",
       "75%         359.000000\n",
       "max        3224.000000\n",
       "dtype: float64"
      ]
     },
     "execution_count": 8,
     "metadata": {},
     "output_type": "execute_result"
    }
   ],
   "source": [
    "pandas.Series(len(term) for term, _ in terms).describe()"
   ]
  },
  {
   "cell_type": "markdown",
   "id": "ed7030e6-6d63-4f54-a8af-13e938191812",
   "metadata": {},
   "source": [
    "## Run current version"
   ]
  },
  {
   "cell_type": "code",
   "execution_count": 9,
   "id": "bc701097-6aa9-44a1-8673-b2777e84e929",
   "metadata": {},
   "outputs": [
    {
     "name": "stdout",
     "output_type": "stream",
     "text": [
      "No local changes to save\n",
      "Already on 'main'\n",
      "Your branch is up to date with 'origin/main'.\n"
     ]
    }
   ],
   "source": [
    "!git stash\n",
    "!git checkout main\n",
    "#importlib.reload(dimod)"
   ]
  },
  {
   "cell_type": "code",
   "execution_count": 10,
   "id": "0dff8f12-ff29-4991-ad7c-8bb9d6367f5e",
   "metadata": {},
   "outputs": [],
   "source": [
    "from dimod import BinaryPolynomial as BPold"
   ]
  },
  {
   "cell_type": "code",
   "execution_count": 11,
   "id": "ec77f944-27b1-47ce-b141-2b8d6fc3f116",
   "metadata": {},
   "outputs": [
    {
     "data": {
      "text/plain": [
       "\u001b[0;31mSignature:\u001b[0m \u001b[0mBPold\u001b[0m\u001b[0;34m.\u001b[0m\u001b[0m__init__\u001b[0m\u001b[0;34m(\u001b[0m\u001b[0mself\u001b[0m\u001b[0;34m,\u001b[0m \u001b[0mpoly\u001b[0m\u001b[0;34m,\u001b[0m \u001b[0mvartype\u001b[0m\u001b[0;34m)\u001b[0m\u001b[0;34m\u001b[0m\u001b[0;34m\u001b[0m\u001b[0m\n",
       "\u001b[0;31mDocstring:\u001b[0m Initialize self.  See help(type(self)) for accurate signature.\n",
       "\u001b[0;31mSource:\u001b[0m   \n",
       "    \u001b[0;34m@\u001b[0m\u001b[0mvartype_argument\u001b[0m\u001b[0;34m(\u001b[0m\u001b[0;34m'vartype'\u001b[0m\u001b[0;34m)\u001b[0m\u001b[0;34m\u001b[0m\n",
       "\u001b[0;34m\u001b[0m    \u001b[0;32mdef\u001b[0m \u001b[0m__init__\u001b[0m\u001b[0;34m(\u001b[0m\u001b[0mself\u001b[0m\u001b[0;34m,\u001b[0m \u001b[0mpoly\u001b[0m\u001b[0;34m,\u001b[0m \u001b[0mvartype\u001b[0m\u001b[0;34m)\u001b[0m\u001b[0;34m:\u001b[0m\u001b[0;34m\u001b[0m\n",
       "\u001b[0;34m\u001b[0m        \u001b[0;32mif\u001b[0m \u001b[0misinstance\u001b[0m\u001b[0;34m(\u001b[0m\u001b[0mpoly\u001b[0m\u001b[0;34m,\u001b[0m \u001b[0mabc\u001b[0m\u001b[0;34m.\u001b[0m\u001b[0mMapping\u001b[0m\u001b[0;34m)\u001b[0m\u001b[0;34m:\u001b[0m\u001b[0;34m\u001b[0m\n",
       "\u001b[0;34m\u001b[0m            \u001b[0mpoly\u001b[0m \u001b[0;34m=\u001b[0m \u001b[0mpoly\u001b[0m\u001b[0;34m.\u001b[0m\u001b[0mitems\u001b[0m\u001b[0;34m(\u001b[0m\u001b[0;34m)\u001b[0m\u001b[0;34m\u001b[0m\n",
       "\u001b[0;34m\u001b[0m\u001b[0;34m\u001b[0m\n",
       "\u001b[0;34m\u001b[0m        \u001b[0;31m# we need to aggregate the repeated terms\u001b[0m\u001b[0;34m\u001b[0m\n",
       "\u001b[0;34m\u001b[0m        \u001b[0mself\u001b[0m\u001b[0;34m.\u001b[0m\u001b[0m_terms\u001b[0m \u001b[0;34m=\u001b[0m \u001b[0mterms\u001b[0m \u001b[0;34m=\u001b[0m \u001b[0;34m{\u001b[0m\u001b[0;34m}\u001b[0m\u001b[0;34m\u001b[0m\n",
       "\u001b[0;34m\u001b[0m        \u001b[0;32mfor\u001b[0m \u001b[0mterm\u001b[0m\u001b[0;34m,\u001b[0m \u001b[0mbias\u001b[0m \u001b[0;32min\u001b[0m \u001b[0mpoly\u001b[0m\u001b[0;34m:\u001b[0m\u001b[0;34m\u001b[0m\n",
       "\u001b[0;34m\u001b[0m\u001b[0;34m\u001b[0m\n",
       "\u001b[0;34m\u001b[0m            \u001b[0mfsterm\u001b[0m \u001b[0;34m=\u001b[0m \u001b[0masfrozenset\u001b[0m\u001b[0;34m(\u001b[0m\u001b[0mterm\u001b[0m\u001b[0;34m)\u001b[0m\u001b[0;34m\u001b[0m\n",
       "\u001b[0;34m\u001b[0m\u001b[0;34m\u001b[0m\n",
       "\u001b[0;34m\u001b[0m            \u001b[0;31m# when SPIN-valued, s^2 == 1, so we need to handle that case\u001b[0m\u001b[0;34m\u001b[0m\n",
       "\u001b[0;34m\u001b[0m            \u001b[0;31m# in BINARY, x^2 == x\u001b[0m\u001b[0;34m\u001b[0m\n",
       "\u001b[0;34m\u001b[0m            \u001b[0;32mif\u001b[0m \u001b[0mlen\u001b[0m\u001b[0;34m(\u001b[0m\u001b[0mfsterm\u001b[0m\u001b[0;34m)\u001b[0m \u001b[0;34m<\u001b[0m \u001b[0mlen\u001b[0m\u001b[0;34m(\u001b[0m\u001b[0mterm\u001b[0m\u001b[0;34m)\u001b[0m \u001b[0;32mand\u001b[0m \u001b[0mvartype\u001b[0m \u001b[0;32mis\u001b[0m \u001b[0mVartype\u001b[0m\u001b[0;34m.\u001b[0m\u001b[0mSPIN\u001b[0m\u001b[0;34m:\u001b[0m\u001b[0;34m\u001b[0m\n",
       "\u001b[0;34m\u001b[0m                \u001b[0mnew\u001b[0m \u001b[0;34m=\u001b[0m \u001b[0mset\u001b[0m\u001b[0;34m(\u001b[0m\u001b[0;34m)\u001b[0m\u001b[0;34m\u001b[0m\n",
       "\u001b[0;34m\u001b[0m                \u001b[0mterm\u001b[0m \u001b[0;34m=\u001b[0m \u001b[0mtuple\u001b[0m\u001b[0;34m(\u001b[0m\u001b[0mterm\u001b[0m\u001b[0;34m)\u001b[0m  \u001b[0;31m# make sure it has .count\u001b[0m\u001b[0;34m\u001b[0m\n",
       "\u001b[0;34m\u001b[0m                \u001b[0;32mfor\u001b[0m \u001b[0mv\u001b[0m \u001b[0;32min\u001b[0m \u001b[0mfsterm\u001b[0m\u001b[0;34m:\u001b[0m\u001b[0;34m\u001b[0m\n",
       "\u001b[0;34m\u001b[0m                    \u001b[0;32mif\u001b[0m \u001b[0mterm\u001b[0m\u001b[0;34m.\u001b[0m\u001b[0mcount\u001b[0m\u001b[0;34m(\u001b[0m\u001b[0mv\u001b[0m\u001b[0;34m)\u001b[0m \u001b[0;34m%\u001b[0m \u001b[0;36m2\u001b[0m\u001b[0;34m:\u001b[0m\u001b[0;34m\u001b[0m\n",
       "\u001b[0;34m\u001b[0m                        \u001b[0mnew\u001b[0m\u001b[0;34m.\u001b[0m\u001b[0madd\u001b[0m\u001b[0;34m(\u001b[0m\u001b[0mv\u001b[0m\u001b[0;34m)\u001b[0m\u001b[0;34m\u001b[0m\n",
       "\u001b[0;34m\u001b[0m                \u001b[0mfsterm\u001b[0m \u001b[0;34m=\u001b[0m \u001b[0mfrozenset\u001b[0m\u001b[0;34m(\u001b[0m\u001b[0mnew\u001b[0m\u001b[0;34m)\u001b[0m\u001b[0;34m\u001b[0m\n",
       "\u001b[0;34m\u001b[0m\u001b[0;34m\u001b[0m\n",
       "\u001b[0;34m\u001b[0m            \u001b[0;32mif\u001b[0m \u001b[0mfsterm\u001b[0m \u001b[0;32min\u001b[0m \u001b[0mterms\u001b[0m\u001b[0;34m:\u001b[0m\u001b[0;34m\u001b[0m\n",
       "\u001b[0;34m\u001b[0m                \u001b[0mterms\u001b[0m\u001b[0;34m[\u001b[0m\u001b[0mfsterm\u001b[0m\u001b[0;34m]\u001b[0m \u001b[0;34m+=\u001b[0m \u001b[0mbias\u001b[0m\u001b[0;34m\u001b[0m\n",
       "\u001b[0;34m\u001b[0m            \u001b[0;32melse\u001b[0m\u001b[0;34m:\u001b[0m\u001b[0;34m\u001b[0m\n",
       "\u001b[0;34m\u001b[0m                \u001b[0mterms\u001b[0m\u001b[0;34m[\u001b[0m\u001b[0mfsterm\u001b[0m\u001b[0;34m]\u001b[0m \u001b[0;34m=\u001b[0m \u001b[0mbias\u001b[0m\u001b[0;34m\u001b[0m\n",
       "\u001b[0;34m\u001b[0m\u001b[0;34m\u001b[0m\n",
       "\u001b[0;34m\u001b[0m        \u001b[0mself\u001b[0m\u001b[0;34m.\u001b[0m\u001b[0mvartype\u001b[0m \u001b[0;34m=\u001b[0m \u001b[0mvartype\u001b[0m\u001b[0;34m\u001b[0m\u001b[0;34m\u001b[0m\u001b[0m\n",
       "\u001b[0;31mFile:\u001b[0m      ~/dimod/dimod/higherorder/polynomial.py\n",
       "\u001b[0;31mType:\u001b[0m      function\n"
      ]
     },
     "metadata": {},
     "output_type": "display_data"
    }
   ],
   "source": [
    "BPold.__init__??"
   ]
  },
  {
   "cell_type": "code",
   "execution_count": 12,
   "id": "e4cfa0c6-b7d4-4642-82fb-9eba71ab340b",
   "metadata": {},
   "outputs": [
    {
     "name": "stdout",
     "output_type": "stream",
     "text": [
      " "
     ]
    },
    {
     "data": {
      "text/plain": [
       "         9742163 function calls (9742083 primitive calls) in 29.822 seconds\n",
       "\n",
       "   Ordered by: cumulative time\n",
       "   List reduced from 47 to 20 due to restriction <20>\n",
       "\n",
       "   ncalls  tottime  percall  cumtime  percall filename:lineno(function)\n",
       "        1    0.000    0.000   29.822   29.822 {built-in method builtins.exec}\n",
       "        1    0.000    0.000   29.822   29.822 <string>:1(<module>)\n",
       "        1    0.000    0.000   29.822   29.822 decorators.py:289(new_f)\n",
       "        1    3.253    3.253   29.822   29.822 polynomial.py:89(__init__)\n",
       "  5495096   25.363    0.000   25.363    0.000 {method 'count' of 'tuple' objects}\n",
       "   193097    0.741    0.000    0.783    0.000 polynomial.py:32(asfrozenset)\n",
       "  3474476    0.367    0.000    0.367    0.000 {method 'add' of 'set' objects}\n",
       "   386196    0.056    0.000    0.056    0.000 {built-in method builtins.len}\n",
       "   193107    0.042    0.000    0.042    0.000 {built-in method builtins.isinstance}\n",
       "        1    0.000    0.000    0.000    0.000 abc.py:96(__instancecheck__)\n",
       "        1    0.000    0.000    0.000    0.000 {built-in method _abc._abc_instancecheck}\n",
       "     41/1    0.000    0.000    0.000    0.000 abc.py:100(__subclasscheck__)\n",
       "     41/1    0.000    0.000    0.000    0.000 {built-in method _abc._abc_subclasscheck}\n",
       "        1    0.000    0.000    0.000    0.000 inspect.py:1340(getcallargs)\n",
       "        1    0.000    0.000    0.000    0.000 inspect.py:1102(getfullargspec)\n",
       "        1    0.000    0.000    0.000    0.000 inspect.py:2218(_signature_from_callable)\n",
       "        1    0.000    0.000    0.000    0.000 inspect.py:2124(_signature_from_function)\n",
       "        3    0.000    0.000    0.000    0.000 inspect.py:2489(__init__)\n",
       "        1    0.000    0.000    0.000    0.000 <string>:1(__new__)\n",
       "        1    0.000    0.000    0.000    0.000 decorators.py:281(_enforce_single_arg)"
      ]
     },
     "metadata": {},
     "output_type": "display_data"
    }
   ],
   "source": [
    "%%prun -s cumtime -l 20\n",
    "bp = BPold(terms, 'SPIN')"
   ]
  },
  {
   "cell_type": "code",
   "execution_count": 13,
   "id": "a74eb4b1-a59a-49d7-8e36-95ea91a7a12b",
   "metadata": {},
   "outputs": [
    {
     "data": {
      "text/html": [
       "<div>\n",
       "<style scoped>\n",
       "    .dataframe tbody tr th:only-of-type {\n",
       "        vertical-align: middle;\n",
       "    }\n",
       "\n",
       "    .dataframe tbody tr th {\n",
       "        vertical-align: top;\n",
       "    }\n",
       "\n",
       "    .dataframe thead th {\n",
       "        text-align: right;\n",
       "    }\n",
       "</style>\n",
       "<table border=\"1\" class=\"dataframe\">\n",
       "  <thead>\n",
       "    <tr style=\"text-align: right;\">\n",
       "      <th></th>\n",
       "      <th>0</th>\n",
       "      <th>1</th>\n",
       "    </tr>\n",
       "  </thead>\n",
       "  <tbody>\n",
       "    <tr>\n",
       "      <th>count</th>\n",
       "      <td>182370.000000</td>\n",
       "      <td>182370.000000</td>\n",
       "    </tr>\n",
       "    <tr>\n",
       "      <th>mean</th>\n",
       "      <td>18.921994</td>\n",
       "      <td>1.058820</td>\n",
       "    </tr>\n",
       "    <tr>\n",
       "      <th>std</th>\n",
       "      <td>7.552707</td>\n",
       "      <td>9.036463</td>\n",
       "    </tr>\n",
       "    <tr>\n",
       "      <th>min</th>\n",
       "      <td>1.000000</td>\n",
       "      <td>1.000000</td>\n",
       "    </tr>\n",
       "    <tr>\n",
       "      <th>25%</th>\n",
       "      <td>13.000000</td>\n",
       "      <td>1.000000</td>\n",
       "    </tr>\n",
       "    <tr>\n",
       "      <th>50%</th>\n",
       "      <td>20.000000</td>\n",
       "      <td>1.000000</td>\n",
       "    </tr>\n",
       "    <tr>\n",
       "      <th>75%</th>\n",
       "      <td>25.000000</td>\n",
       "      <td>1.000000</td>\n",
       "    </tr>\n",
       "    <tr>\n",
       "      <th>max</th>\n",
       "      <td>42.000000</td>\n",
       "      <td>3822.000000</td>\n",
       "    </tr>\n",
       "  </tbody>\n",
       "</table>\n",
       "</div>"
      ],
      "text/plain": [
       "                   0              1\n",
       "count  182370.000000  182370.000000\n",
       "mean       18.921994       1.058820\n",
       "std         7.552707       9.036463\n",
       "min         1.000000       1.000000\n",
       "25%        13.000000       1.000000\n",
       "50%        20.000000       1.000000\n",
       "75%        25.000000       1.000000\n",
       "max        42.000000    3822.000000"
      ]
     },
     "execution_count": 13,
     "metadata": {},
     "output_type": "execute_result"
    }
   ],
   "source": [
    "pandas.DataFrame((len(term), bias) for term, bias in bp.items()).describe()"
   ]
  },
  {
   "cell_type": "code",
   "execution_count": null,
   "id": "6f8463b3-a6fe-4841-918f-33743295181f",
   "metadata": {},
   "outputs": [],
   "source": []
  },
  {
   "cell_type": "code",
   "execution_count": 14,
   "id": "ce407274-b49c-4dc5-8fc0-69a5753029c7",
   "metadata": {
    "tags": []
   },
   "outputs": [],
   "source": [
    "term = string.ascii_letters[:12]"
   ]
  },
  {
   "cell_type": "code",
   "execution_count": 15,
   "id": "0834a2d8-5e01-4a40-9541-0a871f18ff2a",
   "metadata": {},
   "outputs": [
    {
     "name": "stdout",
     "output_type": "stream",
     "text": [
      "586 ms ± 89.3 ms per loop (mean ± std. dev. of 7 runs, 1 loop each)\n"
     ]
    },
    {
     "data": {
      "text/plain": [
       "True"
      ]
     },
     "execution_count": 15,
     "metadata": {},
     "output_type": "execute_result"
    }
   ],
   "source": [
    "%timeit BPold({term: 1}, 'SPIN').to_binary().to_spin() == BPold({term: 1}, 'SPIN')\n",
    "BPold({term: 1}, 'SPIN').to_binary().to_spin() == BPold({term: 1}, 'SPIN')"
   ]
  },
  {
   "cell_type": "code",
   "execution_count": 16,
   "id": "a7e72459-4dce-458d-84d4-bf6ddf925e33",
   "metadata": {},
   "outputs": [
    {
     "name": "stdout",
     "output_type": "stream",
     "text": [
      "703 ms ± 3.53 ms per loop (mean ± std. dev. of 7 runs, 1 loop each)\n"
     ]
    },
    {
     "data": {
      "text/plain": [
       "True"
      ]
     },
     "execution_count": 16,
     "metadata": {},
     "output_type": "execute_result"
    }
   ],
   "source": [
    "%timeit BPold({term: 1}, 'BINARY').to_spin().to_binary() == BPold({term: 1}, 'BINARY')\n",
    "BPold({term: 1}, 'BINARY').to_spin().to_binary() == BPold({term: 1}, 'BINARY')"
   ]
  },
  {
   "cell_type": "code",
   "execution_count": 17,
   "id": "a8af1d2f-e9d4-4fe6-9129-173589c30d9b",
   "metadata": {},
   "outputs": [
    {
     "data": {
      "text/plain": [
       "4096"
      ]
     },
     "execution_count": 17,
     "metadata": {},
     "output_type": "execute_result"
    }
   ],
   "source": [
    "len(BPold({term: 1}, 'SPIN').to_binary().to_spin())"
   ]
  },
  {
   "cell_type": "code",
   "execution_count": 18,
   "id": "45b7c9d6-cc7a-475e-adaf-8fa4649119a6",
   "metadata": {},
   "outputs": [
    {
     "data": {
      "text/plain": [
       "4096"
      ]
     },
     "execution_count": 18,
     "metadata": {},
     "output_type": "execute_result"
    }
   ],
   "source": [
    "len(BPold({term: 1}, 'BINARY').to_spin().to_binary())"
   ]
  },
  {
   "cell_type": "code",
   "execution_count": 19,
   "id": "a4a0ea46-a6a5-47f7-8f4e-47fa480c492d",
   "metadata": {},
   "outputs": [
    {
     "name": "stdout",
     "output_type": "stream",
     "text": [
      " "
     ]
    },
    {
     "data": {
      "text/plain": [
       "         19274487 function calls (19274482 primitive calls) in 6.276 seconds\n",
       "\n",
       "   Ordered by: cumulative time\n",
       "   List reduced from 66 to 20 due to restriction <20>\n",
       "\n",
       "   ncalls  tottime  percall  cumtime  percall filename:lineno(function)\n",
       "        1    0.000    0.000    6.276    6.276 {built-in method builtins.exec}\n",
       "        1    0.000    0.000    6.276    6.276 <string>:1(<module>)\n",
       "      2/1    2.907    1.454    6.276    6.276 polynomial.py:232(relabel_variables)\n",
       "  7266348    1.095    0.000    1.480    0.000 polynomial.py:256(<genexpr>)\n",
       "   547113    0.913    0.000    1.177    0.000 _collections_abc.py:742(__iter__)\n",
       "  6901612    0.385    0.000    0.385    0.000 {method 'get' of 'dict' objects}\n",
       "        1    0.000    0.000    0.319    0.319 polynomial.py:177(copy)\n",
       "        1    0.000    0.000    0.319    0.319 decorators.py:289(new_f)\n",
       "        1    0.119    0.119    0.319    0.319 polynomial.py:89(__init__)\n",
       "  1458956    0.194    0.000    0.266    0.000 polynomial.py:32(asfrozenset)\n",
       "   364738    0.193    0.000    0.264    0.000 polynomial.py:158(__setitem__)\n",
       "   547110    0.169    0.000    0.264    0.000 polynomial.py:149(__getitem__)\n",
       "   364738    0.131    0.000    0.199    0.000 polynomial.py:120(__delitem__)\n",
       "        1    0.007    0.007    0.078    0.078 polynomial.py:165(variables)\n",
       "  1458965    0.072    0.000    0.072    0.000 {built-in method builtins.isinstance}\n",
       "        1    0.071    0.071    0.071    0.071 {method 'union' of 'set' objects}\n",
       "364751/364747    0.019    0.000    0.019    0.000 {built-in method builtins.len}\n",
       "        1    0.000    0.000    0.000    0.000 inspect.py:1340(getcallargs)\n",
       "        3    0.000    0.000    0.000    0.000 utilities.py:351(iter_safe_relabels)\n",
       "        1    0.000    0.000    0.000    0.000 inspect.py:1102(getfullargspec)"
      ]
     },
     "metadata": {},
     "output_type": "display_data"
    }
   ],
   "source": [
    "prun -s cumtime -l 20 bp2 = bp.relabel_variables(dict(zip(string.ascii_letters, reversed(string.ascii_letters))), inplace=False)"
   ]
  },
  {
   "cell_type": "code",
   "execution_count": 20,
   "id": "7eeadfa9-40e8-41c5-bcf5-39d1ca2fbd00",
   "metadata": {},
   "outputs": [
    {
     "name": "stdout",
     "output_type": "stream",
     "text": [
      " "
     ]
    },
    {
     "data": {
      "text/plain": [
       "         19274484 function calls (19274479 primitive calls) in 12.020 seconds\n",
       "\n",
       "   Ordered by: cumulative time\n",
       "   List reduced from 63 to 20 due to restriction <20>\n",
       "\n",
       "   ncalls  tottime  percall  cumtime  percall filename:lineno(function)\n",
       "        1    0.000    0.000   12.020   12.020 {built-in method builtins.exec}\n",
       "        1    0.000    0.000   12.019   12.019 <string>:1(<module>)\n",
       "      2/1    8.767    4.383   12.019   12.019 polynomial.py:232(relabel_variables)\n",
       "  7266348    1.145    0.000    1.546    0.000 polynomial.py:256(<genexpr>)\n",
       "   547113    0.681    0.000    0.947    0.000 _collections_abc.py:742(__iter__)\n",
       "  6901612    0.401    0.000    0.401    0.000 {method 'get' of 'dict' objects}\n",
       "        1    0.000    0.000    0.314    0.314 polynomial.py:177(copy)\n",
       "        1    0.000    0.000    0.314    0.314 decorators.py:289(new_f)\n",
       "        1    0.111    0.111    0.314    0.314 polynomial.py:89(__init__)\n",
       "   364738    0.224    0.000    0.299    0.000 polynomial.py:158(__setitem__)\n",
       "  1458956    0.196    0.000    0.268    0.000 polynomial.py:32(asfrozenset)\n",
       "   547110    0.172    0.000    0.266    0.000 polynomial.py:149(__getitem__)\n",
       "   364738    0.151    0.000    0.220    0.000 polynomial.py:120(__delitem__)\n",
       "        1    0.007    0.007    0.080    0.080 polynomial.py:165(variables)\n",
       "        1    0.074    0.074    0.074    0.074 {method 'union' of 'set' objects}\n",
       "  1458965    0.072    0.000    0.072    0.000 {built-in method builtins.isinstance}\n",
       "364751/364747    0.018    0.000    0.018    0.000 {built-in method builtins.len}\n",
       "        3    0.000    0.000    0.000    0.000 utilities.py:351(iter_safe_relabels)\n",
       "        1    0.000    0.000    0.000    0.000 inspect.py:1340(getcallargs)\n",
       "        1    0.000    0.000    0.000    0.000 inspect.py:1102(getfullargspec)"
      ]
     },
     "metadata": {},
     "output_type": "display_data"
    }
   ],
   "source": [
    "prun -s cumtime -l 20 bp3 = bp2.relabel_variables(dict(zip(string.ascii_letters, reversed(string.ascii_letters))), inplace=False)"
   ]
  },
  {
   "cell_type": "code",
   "execution_count": 21,
   "id": "0791493b-2ded-4b56-84ea-accb50f0de3d",
   "metadata": {},
   "outputs": [
    {
     "data": {
      "text/plain": [
       "False"
      ]
     },
     "execution_count": 21,
     "metadata": {},
     "output_type": "execute_result"
    }
   ],
   "source": [
    "bp == bp2"
   ]
  },
  {
   "cell_type": "code",
   "execution_count": 22,
   "id": "3efb0d30-46a3-41f5-bebc-7d9a18d17e41",
   "metadata": {},
   "outputs": [
    {
     "data": {
      "text/plain": [
       "True"
      ]
     },
     "execution_count": 22,
     "metadata": {},
     "output_type": "execute_result"
    }
   ],
   "source": [
    "bp == bp3"
   ]
  },
  {
   "cell_type": "code",
   "execution_count": 23,
   "id": "a81ab133-322d-4f93-a9d3-5abd8b49d6ab",
   "metadata": {},
   "outputs": [
    {
     "data": {
      "text/plain": [
       "False"
      ]
     },
     "execution_count": 23,
     "metadata": {},
     "output_type": "execute_result"
    }
   ],
   "source": [
    "bp2 == bp3"
   ]
  },
  {
   "cell_type": "markdown",
   "id": "81473689-9ece-45a7-85a0-389d0418be3e",
   "metadata": {
    "tags": []
   },
   "source": [
    "# Exit interpreter\n",
    "I just can't get module reloading to work properly here ..."
   ]
  },
  {
   "cell_type": "code",
   "execution_count": 24,
   "id": "673fe5b0-5934-4b40-a418-62122e867aa9",
   "metadata": {},
   "outputs": [
    {
     "name": "stdout",
     "output_type": "stream",
     "text": [
      "BYE\n"
     ]
    },
    {
     "ename": "SystemExit",
     "evalue": "",
     "output_type": "error",
     "traceback": [
      "An exception has occurred, use %tb to see the full traceback.\n",
      "\u001b[0;31mSystemExit\u001b[0m\n"
     ]
    },
    {
     "name": "stderr",
     "output_type": "stream",
     "text": [
      "/home/daniel/anaconda3/lib/python3.8/site-packages/IPython/core/interactiveshell.py:3449: UserWarning: To exit: use 'exit', 'quit', or Ctrl-D.\n",
      "  warn(\"To exit: use 'exit', 'quit', or Ctrl-D.\", stacklevel=1)\n"
     ]
    }
   ],
   "source": [
    "print('BYE')\n",
    "exit()\n",
    "raise SystemExit\n",
    "print('HI')"
   ]
  },
  {
   "cell_type": "markdown",
   "id": "8d68e1c7-8d3c-40ae-acdd-360edccad297",
   "metadata": {},
   "source": [
    "# Proposed"
   ]
  },
  {
   "cell_type": "markdown",
   "id": "c2041ccc-e502-4135-b067-159d85043378",
   "metadata": {
    "tags": []
   },
   "source": [
    "## Create test example"
   ]
  },
  {
   "cell_type": "code",
   "execution_count": 1,
   "id": "370178a2-f029-4e9b-b4f7-f4c051df686c",
   "metadata": {},
   "outputs": [],
   "source": [
    "import string, random, toolz, pandas, importlib, sys, os, cytoolz, toolz"
   ]
  },
  {
   "cell_type": "code",
   "execution_count": 2,
   "id": "47e01614-89da-426a-8f4d-a546fe454328",
   "metadata": {},
   "outputs": [],
   "source": [
    "import itertools as it"
   ]
  },
  {
   "cell_type": "code",
   "execution_count": 3,
   "id": "a2199fbe-fa29-4286-b93a-eadba3b739e3",
   "metadata": {},
   "outputs": [],
   "source": [
    "terms = [(term, 1) for term in str(random.choices(string.ascii_letters, k=10**7)).split('Z')]"
   ]
  },
  {
   "cell_type": "code",
   "execution_count": 4,
   "id": "5707eff9-710b-4799-87bc-99bed0eed866",
   "metadata": {},
   "outputs": [
    {
     "data": {
      "text/plain": [
       "count    192040.000000\n",
       "mean        259.362430\n",
       "std         257.481557\n",
       "min           2.000000\n",
       "25%          74.000000\n",
       "50%         179.000000\n",
       "75%         359.000000\n",
       "max        3434.000000\n",
       "dtype: float64"
      ]
     },
     "execution_count": 4,
     "metadata": {},
     "output_type": "execute_result"
    }
   ],
   "source": [
    "pandas.Series(len(term) for term, _ in terms).describe()"
   ]
  },
  {
   "cell_type": "markdown",
   "id": "75dbfea5-3022-4652-89f2-e41f0b822abd",
   "metadata": {},
   "source": [
    "## Run proposed version"
   ]
  },
  {
   "cell_type": "code",
   "execution_count": 5,
   "id": "6f8b616f-1835-4723-83c3-dc189b891a94",
   "metadata": {},
   "outputs": [
    {
     "name": "stdout",
     "output_type": "stream",
     "text": [
      "M\tdimod/higherorder/polynomial.py\n",
      "D\tpolynomial-perf.ipynb\n",
      "Already on 'binary-polynomial'\n",
      "Your branch is ahead of 'origin/binary-polynomial' by 1 commit.\n",
      "  (use \"git push\" to publish your local commits)\n",
      "No stash entries found.\n"
     ]
    }
   ],
   "source": [
    "!mv polynomial-perf.ipynb{,.bak}\n",
    "!git checkout binary-polynomial\n",
    "!git stash pop\n",
    "#!touch -c ./dimod/higherorder/polynomial.py\n",
    "#importlib.reload(dimod)"
   ]
  },
  {
   "cell_type": "code",
   "execution_count": 6,
   "id": "6e5ac6a3-5a9a-4147-8909-0b09208d66c2",
   "metadata": {},
   "outputs": [],
   "source": [
    "from dimod import BinaryPolynomial as BPnew"
   ]
  },
  {
   "cell_type": "code",
   "execution_count": 7,
   "id": "b8472b21-b3e6-4c19-b860-d2631dd78065",
   "metadata": {},
   "outputs": [
    {
     "data": {
      "text/plain": [
       "\u001b[0;31mSignature:\u001b[0m \u001b[0mBPnew\u001b[0m\u001b[0;34m.\u001b[0m\u001b[0m__init__\u001b[0m\u001b[0;34m(\u001b[0m\u001b[0mself\u001b[0m\u001b[0;34m,\u001b[0m \u001b[0mpoly\u001b[0m\u001b[0;34m,\u001b[0m \u001b[0mvartype\u001b[0m\u001b[0;34m)\u001b[0m\u001b[0;34m\u001b[0m\u001b[0;34m\u001b[0m\u001b[0m\n",
       "\u001b[0;31mDocstring:\u001b[0m Initialize self.  See help(type(self)) for accurate signature.\n",
       "\u001b[0;31mSource:\u001b[0m   \n",
       "    \u001b[0;34m@\u001b[0m\u001b[0mvartype_argument\u001b[0m\u001b[0;34m(\u001b[0m\u001b[0;34m'vartype'\u001b[0m\u001b[0;34m)\u001b[0m\u001b[0;34m\u001b[0m\n",
       "\u001b[0;34m\u001b[0m    \u001b[0;32mdef\u001b[0m \u001b[0m__init__\u001b[0m\u001b[0;34m(\u001b[0m\u001b[0mself\u001b[0m\u001b[0;34m,\u001b[0m \u001b[0mpoly\u001b[0m\u001b[0;34m,\u001b[0m \u001b[0mvartype\u001b[0m\u001b[0;34m)\u001b[0m\u001b[0;34m:\u001b[0m\u001b[0;34m\u001b[0m\n",
       "\u001b[0;34m\u001b[0m        \u001b[0;32mif\u001b[0m \u001b[0misinstance\u001b[0m\u001b[0;34m(\u001b[0m\u001b[0mpoly\u001b[0m\u001b[0;34m,\u001b[0m \u001b[0mabc\u001b[0m\u001b[0;34m.\u001b[0m\u001b[0mMapping\u001b[0m\u001b[0;34m)\u001b[0m\u001b[0;34m:\u001b[0m\u001b[0;34m\u001b[0m\n",
       "\u001b[0;34m\u001b[0m            \u001b[0mpoly\u001b[0m \u001b[0;34m=\u001b[0m \u001b[0mpoly\u001b[0m\u001b[0;34m.\u001b[0m\u001b[0mitems\u001b[0m\u001b[0;34m(\u001b[0m\u001b[0;34m)\u001b[0m\u001b[0;34m\u001b[0m\n",
       "\u001b[0;34m\u001b[0m\u001b[0;34m\u001b[0m\n",
       "\u001b[0;34m\u001b[0m        \u001b[0;31m# we need to aggregate the repeated terms\u001b[0m\u001b[0;34m\u001b[0m\n",
       "\u001b[0;34m\u001b[0m        \u001b[0mterms\u001b[0m \u001b[0;34m=\u001b[0m \u001b[0mdefaultdict\u001b[0m\u001b[0;34m(\u001b[0m\u001b[0mint\u001b[0m\u001b[0;34m)\u001b[0m\u001b[0;34m\u001b[0m\n",
       "\u001b[0;34m\u001b[0m        \u001b[0;32mfor\u001b[0m \u001b[0mterm\u001b[0m\u001b[0;34m,\u001b[0m \u001b[0mbias\u001b[0m \u001b[0;32min\u001b[0m \u001b[0mfilter\u001b[0m\u001b[0;34m(\u001b[0m\u001b[0mtl\u001b[0m\u001b[0;34m.\u001b[0m\u001b[0msecond\u001b[0m\u001b[0;34m,\u001b[0m \u001b[0mpoly\u001b[0m\u001b[0;34m)\u001b[0m\u001b[0;34m:\u001b[0m\u001b[0;34m\u001b[0m\n",
       "\u001b[0;34m\u001b[0m            \u001b[0mterms\u001b[0m\u001b[0;34m[\u001b[0m\u001b[0mfreeze_term\u001b[0m\u001b[0;34m(\u001b[0m\u001b[0mterm\u001b[0m\u001b[0;34m,\u001b[0m \u001b[0mvartype\u001b[0m\u001b[0;34m)\u001b[0m\u001b[0;34m]\u001b[0m \u001b[0;34m+=\u001b[0m \u001b[0mbias\u001b[0m\u001b[0;34m\u001b[0m\n",
       "\u001b[0;34m\u001b[0m\u001b[0;34m\u001b[0m\n",
       "\u001b[0;34m\u001b[0m        \u001b[0mself\u001b[0m\u001b[0;34m.\u001b[0m\u001b[0m_terms\u001b[0m \u001b[0;34m=\u001b[0m \u001b[0mtl\u001b[0m\u001b[0;34m.\u001b[0m\u001b[0mvalfilter\u001b[0m\u001b[0;34m(\u001b[0m\u001b[0mbool\u001b[0m\u001b[0;34m,\u001b[0m \u001b[0mterms\u001b[0m\u001b[0;34m)\u001b[0m\u001b[0;34m\u001b[0m\n",
       "\u001b[0;34m\u001b[0m        \u001b[0mself\u001b[0m\u001b[0;34m.\u001b[0m\u001b[0mvartype\u001b[0m \u001b[0;34m=\u001b[0m \u001b[0mvartype\u001b[0m\u001b[0;34m\u001b[0m\u001b[0;34m\u001b[0m\u001b[0m\n",
       "\u001b[0;31mFile:\u001b[0m      ~/dimod/dimod/higherorder/polynomial.py\n",
       "\u001b[0;31mType:\u001b[0m      function\n"
      ]
     },
     "metadata": {},
     "output_type": "display_data"
    }
   ],
   "source": [
    "BPnew.__init__??"
   ]
  },
  {
   "cell_type": "code",
   "execution_count": 8,
   "id": "9065a62a-4c71-4f58-843b-65f611bc4848",
   "metadata": {},
   "outputs": [
    {
     "name": "stdout",
     "output_type": "stream",
     "text": [
      " "
     ]
    },
    {
     "data": {
      "text/plain": [
       "         4228058 function calls (4227978 primitive calls) in 3.208 seconds\n",
       "\n",
       "   Ordered by: cumulative time\n",
       "   List reduced from 46 to 20 due to restriction <20>\n",
       "\n",
       "   ncalls  tottime  percall  cumtime  percall filename:lineno(function)\n",
       "        1    0.000    0.000    3.208    3.208 {built-in method builtins.exec}\n",
       "        1    0.000    0.000    3.208    3.208 <string>:1(<module>)\n",
       "        1    0.005    0.005    3.207    3.207 decorators.py:289(new_f)\n",
       "        1    0.213    0.213    3.203    3.203 polynomial.py:108(__init__)\n",
       "   192040    2.546    0.000    2.990    0.000 polynomial.py:40(freeze_term)\n",
       "  3651735    0.415    0.000    0.415    0.000 polynomial.py:47(<genexpr>)\n",
       "   192050    0.016    0.000    0.017    0.000 {built-in method builtins.isinstance}\n",
       "   192041    0.013    0.000    0.013    0.000 {method 'items' of 'dict' objects}\n",
       "        1    0.000    0.000    0.000    0.000 abc.py:96(__instancecheck__)\n",
       "        1    0.000    0.000    0.000    0.000 {built-in method _abc._abc_instancecheck}\n",
       "     41/1    0.000    0.000    0.000    0.000 abc.py:100(__subclasscheck__)\n",
       "     41/1    0.000    0.000    0.000    0.000 {built-in method _abc._abc_subclasscheck}\n",
       "        1    0.000    0.000    0.000    0.000 inspect.py:1340(getcallargs)\n",
       "        1    0.000    0.000    0.000    0.000 inspect.py:1102(getfullargspec)\n",
       "        1    0.000    0.000    0.000    0.000 inspect.py:2218(_signature_from_callable)\n",
       "        1    0.000    0.000    0.000    0.000 inspect.py:2124(_signature_from_function)\n",
       "        3    0.000    0.000    0.000    0.000 inspect.py:2489(__init__)\n",
       "        1    0.000    0.000    0.000    0.000 inspect.py:2772(__init__)\n",
       "        1    0.000    0.000    0.000    0.000 decorators.py:281(_enforce_single_arg)\n",
       "       38    0.000    0.000    0.000    0.000 _collections_abc.py:392(__subclasshook__)"
      ]
     },
     "metadata": {},
     "output_type": "display_data"
    }
   ],
   "source": [
    "%%prun -s cumtime -l 20 \n",
    "bp = BPnew(terms, 'SPIN')"
   ]
  },
  {
   "cell_type": "code",
   "execution_count": 9,
   "id": "b9f0d049-5b6f-4521-a6c9-f6d0f529b8a8",
   "metadata": {},
   "outputs": [
    {
     "data": {
      "text/html": [
       "<div>\n",
       "<style scoped>\n",
       "    .dataframe tbody tr th:only-of-type {\n",
       "        vertical-align: middle;\n",
       "    }\n",
       "\n",
       "    .dataframe tbody tr th {\n",
       "        vertical-align: top;\n",
       "    }\n",
       "\n",
       "    .dataframe thead th {\n",
       "        text-align: right;\n",
       "    }\n",
       "</style>\n",
       "<table border=\"1\" class=\"dataframe\">\n",
       "  <thead>\n",
       "    <tr style=\"text-align: right;\">\n",
       "      <th></th>\n",
       "      <th>0</th>\n",
       "      <th>1</th>\n",
       "    </tr>\n",
       "  </thead>\n",
       "  <tbody>\n",
       "    <tr>\n",
       "      <th>count</th>\n",
       "      <td>181336.000000</td>\n",
       "      <td>181336.000000</td>\n",
       "    </tr>\n",
       "    <tr>\n",
       "      <th>mean</th>\n",
       "      <td>18.949006</td>\n",
       "      <td>1.059029</td>\n",
       "    </tr>\n",
       "    <tr>\n",
       "      <th>std</th>\n",
       "      <td>7.544061</td>\n",
       "      <td>8.981906</td>\n",
       "    </tr>\n",
       "    <tr>\n",
       "      <th>min</th>\n",
       "      <td>1.000000</td>\n",
       "      <td>1.000000</td>\n",
       "    </tr>\n",
       "    <tr>\n",
       "      <th>25%</th>\n",
       "      <td>13.000000</td>\n",
       "      <td>1.000000</td>\n",
       "    </tr>\n",
       "    <tr>\n",
       "      <th>50%</th>\n",
       "      <td>20.000000</td>\n",
       "      <td>1.000000</td>\n",
       "    </tr>\n",
       "    <tr>\n",
       "      <th>75%</th>\n",
       "      <td>25.000000</td>\n",
       "      <td>1.000000</td>\n",
       "    </tr>\n",
       "    <tr>\n",
       "      <th>max</th>\n",
       "      <td>40.000000</td>\n",
       "      <td>3787.000000</td>\n",
       "    </tr>\n",
       "  </tbody>\n",
       "</table>\n",
       "</div>"
      ],
      "text/plain": [
       "                   0              1\n",
       "count  181336.000000  181336.000000\n",
       "mean       18.949006       1.059029\n",
       "std         7.544061       8.981906\n",
       "min         1.000000       1.000000\n",
       "25%        13.000000       1.000000\n",
       "50%        20.000000       1.000000\n",
       "75%        25.000000       1.000000\n",
       "max        40.000000    3787.000000"
      ]
     },
     "execution_count": 9,
     "metadata": {},
     "output_type": "execute_result"
    }
   ],
   "source": [
    "pandas.DataFrame((len(term), bias) for term, bias in bp.items()).describe()"
   ]
  },
  {
   "cell_type": "code",
   "execution_count": 10,
   "id": "e396116b-8b48-4e80-b780-63e6918d75e3",
   "metadata": {
    "tags": []
   },
   "outputs": [],
   "source": [
    "term = string.ascii_letters[:12]"
   ]
  },
  {
   "cell_type": "code",
   "execution_count": 11,
   "id": "251c2cf3-d1e0-4f81-8b2d-0bfe3b809afc",
   "metadata": {},
   "outputs": [
    {
     "name": "stdout",
     "output_type": "stream",
     "text": [
      "825 ms ± 106 ms per loop (mean ± std. dev. of 7 runs, 1 loop each)\n"
     ]
    },
    {
     "data": {
      "text/plain": [
       "True"
      ]
     },
     "execution_count": 11,
     "metadata": {},
     "output_type": "execute_result"
    }
   ],
   "source": [
    "%timeit BPnew({term: 1}, 'SPIN').to_binary().to_spin() == BPnew({term: 1}, 'SPIN')\n",
    "BPnew({term: 1}, 'SPIN').to_binary().to_spin() == BPnew({term: 1}, 'SPIN')"
   ]
  },
  {
   "cell_type": "code",
   "execution_count": 12,
   "id": "1b734eee-3346-4ccf-a46b-b7f1062d7146",
   "metadata": {},
   "outputs": [
    {
     "name": "stdout",
     "output_type": "stream",
     "text": [
      "491 ms ± 5.34 ms per loop (mean ± std. dev. of 7 runs, 1 loop each)\n"
     ]
    },
    {
     "data": {
      "text/plain": [
       "True"
      ]
     },
     "execution_count": 12,
     "metadata": {},
     "output_type": "execute_result"
    }
   ],
   "source": [
    "%timeit BPnew({term: 1}, 'BINARY').to_spin().to_binary() == BPnew({term: 1}, 'BINARY')\n",
    "BPnew({term: 1}, 'BINARY').to_spin().to_binary() == BPnew({term: 1}, 'BINARY')"
   ]
  },
  {
   "cell_type": "code",
   "execution_count": 15,
   "id": "cd914370-6d26-4549-8ac1-409b9cfb0d42",
   "metadata": {},
   "outputs": [
    {
     "data": {
      "text/plain": [
       "BinaryPolynomial({frozenset({'l', 'i', 'a', 'b', 'k', 'h', 'e', 'g', 'j', 'd', 'c', 'f'}): 1.0}, 'BINARY')"
      ]
     },
     "execution_count": 15,
     "metadata": {},
     "output_type": "execute_result"
    }
   ],
   "source": [
    "BPnew({term: 1}, 'BINARY').to_spin().to_binary()"
   ]
  },
  {
   "cell_type": "code",
   "execution_count": 16,
   "id": "9b8ea924-76fe-4dfc-9b0f-1e526c38f0ce",
   "metadata": {},
   "outputs": [
    {
     "data": {
      "text/plain": [
       "BinaryPolynomial({frozenset({'l', 'i', 'a', 'b', 'k', 'h', 'e', 'g', 'j', 'd', 'c', 'f'}): 1.0}, 'SPIN')"
      ]
     },
     "execution_count": 16,
     "metadata": {},
     "output_type": "execute_result"
    }
   ],
   "source": [
    "BPnew({term: 1}, 'SPIN').to_binary().to_spin()"
   ]
  },
  {
   "cell_type": "code",
   "execution_count": null,
   "id": "3cec6003-377c-4ce2-aaff-195413a5d7f0",
   "metadata": {},
   "outputs": [],
   "source": []
  },
  {
   "cell_type": "code",
   "execution_count": 17,
   "id": "5855d98a-3560-4ff4-8717-c71e7a5b9322",
   "metadata": {},
   "outputs": [],
   "source": [
    "#len(BPnew({term: 1}, 'BINARY').to_spin() * BPnew({term: 1}, 'BINARY').to_spin())"
   ]
  },
  {
   "cell_type": "code",
   "execution_count": 18,
   "id": "8f1025ab-14a5-4ab2-b636-aae76d82b1cb",
   "metadata": {},
   "outputs": [
    {
     "name": "stdout",
     "output_type": "stream",
     "text": [
      " "
     ]
    },
    {
     "data": {
      "text/plain": [
       "         8141772 function calls in 2.503 seconds\n",
       "\n",
       "   Ordered by: cumulative time\n",
       "   List reduced from 56 to 20 due to restriction <20>\n",
       "\n",
       "   ncalls  tottime  percall  cumtime  percall filename:lineno(function)\n",
       "        1    0.000    0.000    2.503    2.503 {built-in method builtins.exec}\n",
       "        1    0.003    0.003    2.503    2.503 <string>:1(<module>)\n",
       "        1    0.000    0.000    2.500    2.500 polynomial.py:269(relabel_variables)\n",
       "        1    1.350    1.350    2.256    2.256 polynomial.py:295(<dictcomp>)\n",
       "  3617473    0.547    0.000    0.737    0.000 polynomial.py:296(<genexpr>)\n",
       "  3436141    0.190    0.000    0.190    0.000 {method 'get' of 'dict' objects}\n",
       "   181337    0.060    0.000    0.169    0.000 _collections_abc.py:742(__iter__)\n",
       "        1    0.004    0.004    0.149    0.149 decorators.py:289(new_f)\n",
       "        1    0.117    0.117    0.145    0.145 polynomial.py:108(__init__)\n",
       "   181336    0.073    0.000    0.109    0.000 polynomial.py:153(__getitem__)\n",
       "        1    0.009    0.009    0.094    0.094 polynomial.py:202(variables)\n",
       "        1    0.085    0.085    0.085    0.085 {method 'union' of 'set' objects}\n",
       "   181336    0.026    0.000    0.036    0.000 polynomial.py:35(asfrozenset)\n",
       "   181336    0.020    0.000    0.028    0.000 polynomial.py:40(freeze_term)\n",
       "   362681    0.018    0.000    0.018    0.000 {built-in method builtins.isinstance}\n",
       "        1    0.000    0.000    0.000    0.000 inspect.py:1340(getcallargs)\n",
       "        1    0.000    0.000    0.000    0.000 inspect.py:1102(getfullargspec)\n",
       "        1    0.000    0.000    0.000    0.000 inspect.py:2218(_signature_from_callable)\n",
       "        1    0.000    0.000    0.000    0.000 inspect.py:2124(_signature_from_function)\n",
       "        3    0.000    0.000    0.000    0.000 inspect.py:2489(__init__)"
      ]
     },
     "metadata": {},
     "output_type": "display_data"
    }
   ],
   "source": [
    "prun -s cumtime -l 20 bp2 = bp.relabel_variables(dict(zip(string.ascii_letters, reversed(string.ascii_letters))), inplace=False)"
   ]
  },
  {
   "cell_type": "code",
   "execution_count": 19,
   "id": "f28b9d31-00f6-4d19-a799-4aebd8dcdf77",
   "metadata": {},
   "outputs": [
    {
     "name": "stdout",
     "output_type": "stream",
     "text": [
      " "
     ]
    },
    {
     "data": {
      "text/plain": [
       "         8141772 function calls in 2.381 seconds\n",
       "\n",
       "   Ordered by: cumulative time\n",
       "   List reduced from 56 to 20 due to restriction <20>\n",
       "\n",
       "   ncalls  tottime  percall  cumtime  percall filename:lineno(function)\n",
       "        1    0.000    0.000    2.381    2.381 {built-in method builtins.exec}\n",
       "        1    0.003    0.003    2.381    2.381 <string>:1(<module>)\n",
       "        1    0.000    0.000    2.378    2.378 polynomial.py:269(relabel_variables)\n",
       "        1    1.218    1.218    2.131    2.131 polynomial.py:295(<dictcomp>)\n",
       "  3617473    0.547    0.000    0.739    0.000 polynomial.py:296(<genexpr>)\n",
       "  3436141    0.192    0.000    0.192    0.000 {method 'get' of 'dict' objects}\n",
       "   181337    0.063    0.000    0.174    0.000 _collections_abc.py:742(__iter__)\n",
       "        1    0.004    0.004    0.150    0.150 decorators.py:289(new_f)\n",
       "        1    0.117    0.117    0.145    0.145 polynomial.py:108(__init__)\n",
       "   181336    0.076    0.000    0.112    0.000 polynomial.py:153(__getitem__)\n",
       "        1    0.009    0.009    0.098    0.098 polynomial.py:202(variables)\n",
       "        1    0.088    0.088    0.088    0.088 {method 'union' of 'set' objects}\n",
       "   181336    0.026    0.000    0.036    0.000 polynomial.py:35(asfrozenset)\n",
       "   181336    0.021    0.000    0.028    0.000 polynomial.py:40(freeze_term)\n",
       "   362681    0.017    0.000    0.017    0.000 {built-in method builtins.isinstance}\n",
       "        1    0.000    0.000    0.000    0.000 inspect.py:1340(getcallargs)\n",
       "        1    0.000    0.000    0.000    0.000 inspect.py:1102(getfullargspec)\n",
       "        1    0.000    0.000    0.000    0.000 inspect.py:2218(_signature_from_callable)\n",
       "        1    0.000    0.000    0.000    0.000 inspect.py:2124(_signature_from_function)\n",
       "        1    0.000    0.000    0.000    0.000 {built-in method builtins.any}"
      ]
     },
     "metadata": {},
     "output_type": "display_data"
    }
   ],
   "source": [
    "prun -s cumtime -l 20 bp3 = bp2.relabel_variables(dict(zip(string.ascii_letters, reversed(string.ascii_letters))), inplace=False)"
   ]
  },
  {
   "cell_type": "code",
   "execution_count": 20,
   "id": "1feeafa7-7b82-4936-8907-1d9e2cb2f09f",
   "metadata": {},
   "outputs": [
    {
     "data": {
      "text/plain": [
       "False"
      ]
     },
     "execution_count": 20,
     "metadata": {},
     "output_type": "execute_result"
    }
   ],
   "source": [
    "bp == bp2"
   ]
  },
  {
   "cell_type": "code",
   "execution_count": 21,
   "id": "2b68eedb-625d-4b55-913e-eca731039285",
   "metadata": {},
   "outputs": [
    {
     "data": {
      "text/plain": [
       "True"
      ]
     },
     "execution_count": 21,
     "metadata": {},
     "output_type": "execute_result"
    }
   ],
   "source": [
    "bp == bp3"
   ]
  },
  {
   "cell_type": "code",
   "execution_count": 22,
   "id": "f26be75b-8a2f-4825-9c5d-61cb22cb23da",
   "metadata": {},
   "outputs": [
    {
     "data": {
      "text/plain": [
       "False"
      ]
     },
     "execution_count": 22,
     "metadata": {},
     "output_type": "execute_result"
    }
   ],
   "source": [
    "bp2 == bp3"
   ]
  }
 ],
 "metadata": {
  "kernelspec": {
   "display_name": "Python 3 (ipykernel)",
   "language": "python",
   "name": "python3"
  },
  "language_info": {
   "codemirror_mode": {
    "name": "ipython",
    "version": 3
   },
   "file_extension": ".py",
   "mimetype": "text/x-python",
   "name": "python",
   "nbconvert_exporter": "python",
   "pygments_lexer": "ipython3",
   "version": "3.8.11"
  }
 },
 "nbformat": 4,
 "nbformat_minor": 5
}
